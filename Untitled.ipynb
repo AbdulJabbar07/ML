{
 "cells": [
  {
   "cell_type": "code",
   "execution_count": 1,
   "id": "bc669ce4",
   "metadata": {},
   "outputs": [],
   "source": [
    "test_set='MNIST - JPG - testing'"
   ]
  },
  {
   "cell_type": "code",
   "execution_count": 2,
   "id": "6f3fb77b",
   "metadata": {},
   "outputs": [],
   "source": [
    "train_set='MNIST - JPG - training'"
   ]
  },
  {
   "cell_type": "code",
   "execution_count": 6,
   "id": "7fe9c1ce",
   "metadata": {},
   "outputs": [],
   "source": [
    "from tensorflow.keras.models import Sequential"
   ]
  },
  {
   "cell_type": "code",
   "execution_count": 7,
   "id": "33fc70b5",
   "metadata": {},
   "outputs": [],
   "source": [
    "classifier=Sequential()"
   ]
  },
  {
   "cell_type": "code",
   "execution_count": 8,
   "id": "16b40382",
   "metadata": {},
   "outputs": [
    {
     "name": "stdout",
     "output_type": "stream",
     "text": [
      "<keras.engine.sequential.Sequential object at 0x0000028E12A5C910>\n"
     ]
    }
   ],
   "source": [
    "print(classifier)"
   ]
  },
  {
   "cell_type": "code",
   "execution_count": 9,
   "id": "7d4ca560",
   "metadata": {},
   "outputs": [],
   "source": [
    "classifier=Sequential()"
   ]
  },
  {
   "cell_type": "code",
   "execution_count": 29,
   "id": "1e47a1af",
   "metadata": {},
   "outputs": [],
   "source": [
    "from keras.layers import Convolution2D,MaxPooling2D,Flatten,Dense,Dropout"
   ]
  },
  {
   "cell_type": "code",
   "execution_count": 11,
   "id": "17ef3dff",
   "metadata": {},
   "outputs": [],
   "source": [
    "classifier.add(Convolution2D(32,(3,3),input_shape=(256,256,1),activation='relu'))"
   ]
  },
  {
   "cell_type": "code",
   "execution_count": 12,
   "id": "0ffb6679",
   "metadata": {},
   "outputs": [
    {
     "name": "stdout",
     "output_type": "stream",
     "text": [
      "<keras.engine.sequential.Sequential object at 0x0000028E12A4AA50>\n"
     ]
    }
   ],
   "source": [
    "print(classifier)"
   ]
  },
  {
   "cell_type": "code",
   "execution_count": 18,
   "id": "40005501",
   "metadata": {},
   "outputs": [],
   "source": [
    "classifier.add(MaxPooling2D(pool_size=(2,2)))"
   ]
  },
  {
   "cell_type": "code",
   "execution_count": 19,
   "id": "c2d459e3",
   "metadata": {},
   "outputs": [],
   "source": [
    "classifier.add(Convolution2D(32,(3,3),activation='relu'))"
   ]
  },
  {
   "cell_type": "code",
   "execution_count": 21,
   "id": "1bdc7257",
   "metadata": {},
   "outputs": [],
   "source": [
    "classifier.add(MaxPooling2D(pool_size=(2,2)))"
   ]
  },
  {
   "cell_type": "code",
   "execution_count": 24,
   "id": "3853a517",
   "metadata": {},
   "outputs": [],
   "source": [
    "classifier.add(Flatten())"
   ]
  },
  {
   "cell_type": "code",
   "execution_count": 30,
   "id": "12d863c4",
   "metadata": {},
   "outputs": [],
   "source": [
    "classifier.add(Dense(units=128,activation='relu'))\n",
    "classifier.add(Dropout(0.20))"
   ]
  },
  {
   "cell_type": "code",
   "execution_count": 31,
   "id": "8c15aacd",
   "metadata": {},
   "outputs": [],
   "source": [
    "classifier.add(Dense(units=112,activation='relu'))\n",
    "classifier.add(Dropout(0.10))"
   ]
  },
  {
   "cell_type": "code",
   "execution_count": 36,
   "id": "190dd989",
   "metadata": {},
   "outputs": [],
   "source": [
    "classifier.add(Dense(units=96,activation='relu'))\n",
    "classifier.add(Dropout(0.10))"
   ]
  },
  {
   "cell_type": "code",
   "execution_count": 37,
   "id": "bb006aed",
   "metadata": {},
   "outputs": [],
   "source": [
    "classifier.add(Dense(units=80,activation='relu'))\n",
    "classifier.add(Dropout(0.10))"
   ]
  },
  {
   "cell_type": "code",
   "execution_count": 34,
   "id": "b641b41c",
   "metadata": {},
   "outputs": [],
   "source": [
    "classifier.add(Dense(units=64,activation='relu'))"
   ]
  },
  {
   "cell_type": "code",
   "execution_count": 35,
   "id": "67091021",
   "metadata": {},
   "outputs": [],
   "source": [
    "classifier.add(Dense(units=10,activation='softmax'))"
   ]
  },
  {
   "cell_type": "code",
   "execution_count": 38,
   "id": "eb5f575b",
   "metadata": {},
   "outputs": [],
   "source": [
    "classifier.compile(optimizer='adam',loss='categorical_crossentropy',metrics=['accuracy'])"
   ]
  },
  {
   "cell_type": "code",
   "execution_count": 39,
   "id": "f37c20aa",
   "metadata": {
    "scrolled": false
   },
   "outputs": [
    {
     "name": "stdout",
     "output_type": "stream",
     "text": [
      "Model: \"sequential_1\"\n",
      "_________________________________________________________________\n",
      " Layer (type)                Output Shape              Param #   \n",
      "=================================================================\n",
      " conv2d (Conv2D)             (None, 254, 254, 32)      320       \n",
      "                                                                 \n",
      " max_pooling2d (MaxPooling2D  (None, 127, 127, 32)     0         \n",
      " )                                                               \n",
      "                                                                 \n",
      " conv2d_1 (Conv2D)           (None, 125, 125, 32)      9248      \n",
      "                                                                 \n",
      " max_pooling2d_1 (MaxPooling  (None, 62, 62, 32)       0         \n",
      " 2D)                                                             \n",
      "                                                                 \n",
      " flatten (Flatten)           (None, 123008)            0         \n",
      "                                                                 \n",
      " dense (Dense)               (None, 128)               15745152  \n",
      "                                                                 \n",
      " dense_1 (Dense)             (None, 128)               16512     \n",
      "                                                                 \n",
      " dropout (Dropout)           (None, 128)               0         \n",
      "                                                                 \n",
      " dense_2 (Dense)             (None, 112)               14448     \n",
      "                                                                 \n",
      " dropout_1 (Dropout)         (None, 112)               0         \n",
      "                                                                 \n",
      " dense_3 (Dense)             (None, 96)                10848     \n",
      "                                                                 \n",
      " dropout_2 (Dropout)         (None, 96)                0         \n",
      "                                                                 \n",
      " dense_4 (Dense)             (None, 80)                7760      \n",
      "                                                                 \n",
      " dropout_3 (Dropout)         (None, 80)                0         \n",
      "                                                                 \n",
      " dense_5 (Dense)             (None, 64)                5184      \n",
      "                                                                 \n",
      " dense_6 (Dense)             (None, 10)                650       \n",
      "                                                                 \n",
      " dense_7 (Dense)             (None, 96)                1056      \n",
      "                                                                 \n",
      " dropout_4 (Dropout)         (None, 96)                0         \n",
      "                                                                 \n",
      " dense_8 (Dense)             (None, 80)                7760      \n",
      "                                                                 \n",
      " dropout_5 (Dropout)         (None, 80)                0         \n",
      "                                                                 \n",
      "=================================================================\n",
      "Total params: 15,818,938\n",
      "Trainable params: 15,818,938\n",
      "Non-trainable params: 0\n",
      "_________________________________________________________________\n"
     ]
    }
   ],
   "source": [
    "classifier.summary()"
   ]
  },
  {
   "cell_type": "code",
   "execution_count": null,
   "id": "79586592",
   "metadata": {},
   "outputs": [],
   "source": [
    "v "
   ]
  }
 ],
 "metadata": {
  "kernelspec": {
   "display_name": "Python 3 (ipykernel)",
   "language": "python",
   "name": "python3"
  },
  "language_info": {
   "codemirror_mode": {
    "name": "ipython",
    "version": 3
   },
   "file_extension": ".py",
   "mimetype": "text/x-python",
   "name": "python",
   "nbconvert_exporter": "python",
   "pygments_lexer": "ipython3",
   "version": "3.11.3"
  }
 },
 "nbformat": 4,
 "nbformat_minor": 5
}
